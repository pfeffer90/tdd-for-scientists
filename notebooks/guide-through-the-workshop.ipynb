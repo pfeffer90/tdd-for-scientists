{
 "cells": [
  {
   "cell_type": "markdown",
   "metadata": {
    "slideshow": {
     "slide_type": "slide"
    }
   },
   "source": [
    "# Test driven development for computational neuroscientists"
   ]
  },
  {
   "cell_type": "markdown",
   "metadata": {
    "slideshow": {
     "slide_type": "slide"
    }
   },
   "source": [
    "# Welcome ...\n",
    "** 10 mins **"
   ]
  },
  {
   "cell_type": "markdown",
   "metadata": {
    "slideshow": {
     "slide_type": "subslide"
    }
   },
   "source": [
    "## Mingle\n",
    "\n",
    "* grab your neighbour and tell him/her\n",
    "  - name\n",
    "  - something exciting/funny/impressive that happened to you recently\n",
    "  - last line of code that you produced \n",
    "  - ```\n",
    "  if (\"you talked to someone before\" == True)\n",
    "      tell him/her about these persons\n",
    "  ```"
   ]
  },
  {
   "cell_type": "markdown",
   "metadata": {
    "slideshow": {
     "slide_type": "notes"
    }
   },
   "source": [
    "* I am not a Python guru, but we seem to have some here in the course, so please ask to the crowd and help where possible\n",
    "* we even have some tdd experienced people in here, so we got a good base to learn together\n",
    "* but we also have some people here, who never used tdd or even do not know what it is, my aim is to have these people having written a unit test at the end of this workshop and feel comfortable to do so at home\n"
   ]
  },
  {
   "cell_type": "markdown",
   "metadata": {
    "slideshow": {
     "slide_type": "subslide"
    }
   },
   "source": [
    "## Some statistics :)\n",
    "\n",
    "[Who is here ...](https://docs.google.com/forms/d/1biz1F3S9KjzhnCzR9xvTbRWaNsPi_5wyxIk3PwuD31c/edit#responses)"
   ]
  },
  {
   "cell_type": "markdown",
   "metadata": {
    "slideshow": {
     "slide_type": "slide"
    }
   },
   "source": [
    "# Short tour on test driven development\n",
    "**20 mins**"
   ]
  },
  {
   "cell_type": "markdown",
   "metadata": {
    "slideshow": {
     "slide_type": "notes"
    }
   },
   "source": [
    "Scientists develop complex experimental setups together with the world's best engineers and carefully test them, but sit down without any education in software engineering and write very complex algorithms. "
   ]
  },
  {
   "cell_type": "markdown",
   "metadata": {
    "slideshow": {
     "slide_type": "subslide"
    }
   },
   "source": [
    "![hubble](https://www.nasa.gov/sites/default/files/thumbnails/image/ne0213-last-hubble-mission.jpg)"
   ]
  },
  {
   "cell_type": "markdown",
   "metadata": {
    "slideshow": {
     "slide_type": "subslide"
    }
   },
   "source": [
    "![code](https://sandeepdmisra.files.wordpress.com/2016/08/code-example.jpg)"
   ]
  },
  {
   "cell_type": "markdown",
   "metadata": {
    "slideshow": {
     "slide_type": "subslide"
    }
   },
   "source": [
    "## Should scientists be software engineers?\n",
    "\n",
    "Collect your thoughts on this Etherpad, https://board.net/p/smart_start_tdd (2mins)"
   ]
  },
  {
   "cell_type": "markdown",
   "metadata": {
    "slideshow": {
     "slide_type": "subslide"
    }
   },
   "source": [
    "** Trust in science **\n",
    "\n",
    "A leak of emails of a climate research institute from the UK revealed that scientists had great problems controlling their software\n",
    "\n",
    "\"Yup, my awful programming strikes again!\"\n",
    "\n",
    "Although all results could be confirmed, a lack of control of tooling affects credibility. [Nature, 2010](http://www.nature.com/news/2010/101013/full/467775a.html)"
   ]
  },
  {
   "cell_type": "markdown",
   "metadata": {
    "slideshow": {
     "slide_type": "subslide"
    }
   },
   "source": [
    "** Reproducible research **\n",
    "\n",
    "In principle, it is much easier to repeat simulations than rebuilding an experimental setup.  Computational works, however, still suffer from reproducibility issues causing retractions of publications etc. [PLOS, 2014](http://journals.plos.org/plosbiology/article?id=10.1371/journal.pbio.1001745#pbio.1001745-Merali1)"
   ]
  },
  {
   "cell_type": "markdown",
   "metadata": {
    "slideshow": {
     "slide_type": "subslide"
    }
   },
   "source": [
    "** Save time and energy for your research **\n",
    "\n",
    "![wtf_measure](http://commadot.com/wp-content/uploads/2009/02/wtf.png)"
   ]
  },
  {
   "cell_type": "markdown",
   "metadata": {
    "slideshow": {
     "slide_type": "subslide"
    }
   },
   "source": [
    "## Software carpentry\n",
    "\n",
    "Software carpentry is a set of best practices to help developers produce good software.\n",
    "\n",
    "Good software is\n",
    "- maintainable\n",
    "- version controlled\n",
    "- peer reviewed\n",
    "- tested \n",
    "- automated as much as possible"
   ]
  },
  {
   "cell_type": "markdown",
   "metadata": {
    "slideshow": {
     "slide_type": "subslide"
    }
   },
   "source": [
    "## Automated testing\n",
    "\n",
    "*A suite of tests which checks that a software application meets a set of expectations.*\n",
    "\n",
    "* can be run with a \"single button\"\n",
    "* builds a security net for extending and maintaining your application without breaking functionality\n",
    "* constitutes a living documentation\n",
    "* enforces certain best practices like modularity "
   ]
  },
  {
   "cell_type": "markdown",
   "metadata": {
    "slideshow": {
     "slide_type": "subslide"
    }
   },
   "source": [
    "The following slides are based on the blog article [Why writing testable code matters...](https://www.toptal.com/qa/how-to-write-testable-code-and-why-it-matters)"
   ]
  },
  {
   "cell_type": "markdown",
   "metadata": {
    "slideshow": {
     "slide_type": "subslide"
    }
   },
   "source": [
    "![unit_test](https://uploads.toptal.io/blog/image/91299/toptal-blog-image-1434577722896-66635fe9efe5898fa701037c0da6c0f4.jpg)"
   ]
  },
  {
   "cell_type": "markdown",
   "metadata": {
    "slideshow": {
     "slide_type": "subslide"
    }
   },
   "source": [
    "A **unit test** calls a small part of our application/algorithm and checks if it behaves in the expected way *independent of other parts*. \n",
    "\n",
    "* Structure of a unit test\n",
    "```\n",
    "def test_calculator_adds_two_numbers():\n",
    "    # Arrange\n",
    "    # setup part of the application you would like to test\n",
    "    calculator = Calculator()\n",
    "    first_summand = 2\n",
    "    second_summand = 3\n",
    "    expected_sum = 5\n",
    "    # Act\n",
    "    # call a function or invoke a method from a prepared object \n",
    "    actual_sum = calculator.add(first_summand, second_summand)\n",
    "    # Assert\n",
    "    # Here the test fails or passes by comparing what we expect with the actual behaviour\n",
    "    assert expected_sum == actual_sum\n",
    "```\n"
   ]
  },
  {
   "cell_type": "markdown",
   "metadata": {
    "slideshow": {
     "slide_type": "subslide"
    }
   },
   "source": [
    "A good unit test is\n",
    "* easy to write\n",
    "* readable\n",
    "* reliable\n",
    "* fast\n",
    "* independent of other tests and modules"
   ]
  },
  {
   "cell_type": "markdown",
   "metadata": {
    "slideshow": {
     "slide_type": "subslide"
    }
   },
   "source": [
    "## Test driven development\n",
    "\n",
    "*Write test code before you write application code*\n",
    "\n",
    "![tdd_circle](http://www.agilenutshell.com/assets/test-driven-development/tdd-circle-of-life.png)"
   ]
  },
  {
   "cell_type": "markdown",
   "metadata": {
    "slideshow": {
     "slide_type": "subslide"
    }
   },
   "source": [
    "[Three Laws of TDD](http://butunclebob.com/ArticleS.UncleBob.TheThreeRulesOfTdd)\n",
    "\n",
    "* You are not allowed to write any production code unless it is to make a failing unit test pass.\n",
    "* You are not allowed to write any more of a unit test than is sufficient to fail; and compilation failures are failures.\n",
    "* You are not allowed to write any more production code than is sufficient to pass the one failing unit test."
   ]
  },
  {
   "cell_type": "markdown",
   "metadata": {
    "slideshow": {
     "slide_type": "slide"
    }
   },
   "source": [
    "# Live TDD\n",
    "** 60 mins **"
   ]
  },
  {
   "cell_type": "markdown",
   "metadata": {
    "slideshow": {
     "slide_type": "subslide"
    }
   },
   "source": [
    "## Mob programming\n",
    "\n",
    "[FizzBuzz Kata](http://codingdojo.org/kata/FizzBuzz/)\n",
    "\n",
    "Write a program that prints the numbers from 1 to 100. But for multiples of three print “Fizz” instead of the number and for the multiples of five print “Buzz”. For numbers which are multiples of both three and five print “FizzBuzz “."
   ]
  },
  {
   "cell_type": "markdown",
   "metadata": {
    "slideshow": {
     "slide_type": "subslide"
    }
   },
   "source": [
    "## Check technical setup\n",
    "\n",
    "* Wifi?\n",
    "* TDD setup\n",
    "   - ``` git clone https://github.com/pfeffer90/tdd_setup_python.git ```\n",
    "   - follow the instructions from the [TDD setup repo](https://github.com/pfeffer90/tdd_setup_python)\n",
    "* Problems? -> Ask your neighbour :)\n",
    "* Ready? -> Help your neighbour :)\n"
   ]
  },
  {
   "cell_type": "markdown",
   "metadata": {
    "slideshow": {
     "slide_type": "notes"
    }
   },
   "source": [
    "* the aim is not to solve the exercise, the aim is to solve the exercise using TDD (see pdf, or screen, or...)"
   ]
  },
  {
   "cell_type": "markdown",
   "metadata": {
    "slideshow": {
     "slide_type": "subslide"
    }
   },
   "source": [
    "## Pair programming\n",
    "\n",
    "* two people sit in front of one computer\n",
    "* both people own everything\n",
    "* roles\n",
    "  - navigator (on the keyboard): typing, implementation details\n",
    "  - driver (hands free): preparing the concept, continually reviewing the code\n",
    "* be kind with each other and bestow as many compliments as possible\n",
    "* in TDD roles switch after each red test\n",
    "  "
   ]
  },
  {
   "cell_type": "markdown",
   "metadata": {
    "slideshow": {
     "slide_type": "subslide"
    }
   },
   "source": [
    "## FizzBuzz\n",
    "\n",
    "[FizzBuzz Kata](http://codingdojo.org/kata/FizzBuzz/)\n",
    "\n",
    "** Basic requirements **\n",
    "\n",
    "Write a program that prints the numbers from 1 to 100. \n",
    "But for multiples of three print “Fizz” instead of the number and for the multiples of five print “Buzz”. For numbers which are multiples of both three and five print “FizzBuzz “.\n",
    "\n",
    "** Additional requirements **\n",
    "\n",
    "1. A number which contains a 3 is Fizz.\n",
    "2. A number which contains a 5 is Buzz.\n",
    "3. Any number which meets a Fizz condition and a Buzz condition, is FizzBuzz.\n",
    "\n",
    "** Ressources **\n",
    "* [Python tutorial](https://docs.python.org/3/tutorial/index.html)\n",
    "* [unittest](https://docs.python.org/2/library/unittest.html)"
   ]
  },
  {
   "cell_type": "markdown",
   "metadata": {
    "slideshow": {
     "slide_type": "subslide"
    }
   },
   "source": [
    "## Wrap up\n",
    "\n",
    "What did you\n",
    "* learn\n",
    "* like\n",
    "* long for\n",
    "\n",
    "?"
   ]
  },
  {
   "cell_type": "markdown",
   "metadata": {
    "slideshow": {
     "slide_type": "slide"
    }
   },
   "source": [
    "# More TDD sessions\n",
    "**90 mins**"
   ]
  },
  {
   "cell_type": "markdown",
   "metadata": {
    "slideshow": {
     "slide_type": "subslide"
    }
   },
   "source": [
    "## Rules\n",
    "\n",
    "* choose a new partner for each session\n",
    "* stick to the TDD circle and the three laws of TDD\n",
    "* start from scratch for each session, i.e. create a new directory and initialize the tools\n",
    "* delete all the code at the end of the session\n"
   ]
  },
  {
   "cell_type": "markdown",
   "metadata": {
    "slideshow": {
     "slide_type": "subslide"
    }
   },
   "source": [
    "## Game of life V1\n",
    "**30 mins **\n",
    "\n",
    "<img src=\"http://jscoderetreat.com/img/downloads/gameoflife.jpg\" alt=\"Game of Life\" style=\"height: 40vh;\"/>\n",
    "\n",
    "* Hint: Start with the rules :)"
   ]
  },
  {
   "cell_type": "markdown",
   "metadata": {
    "slideshow": {
     "slide_type": "notes"
    }
   },
   "source": [
    "* how many tests?\n",
    "* how many commits?"
   ]
  },
  {
   "cell_type": "markdown",
   "metadata": {
    "slideshow": {
     "slide_type": "subslide"
    }
   },
   "source": [
    "## Wrap up\n",
    "**15 mins**\n",
    "\n",
    "What did you\n",
    "* learn\n",
    "* like\n",
    "* long for\n",
    "\n",
    "?"
   ]
  },
  {
   "cell_type": "markdown",
   "metadata": {
    "slideshow": {
     "slide_type": "subslide"
    }
   },
   "source": [
    "## 15 mins break"
   ]
  },
  {
   "cell_type": "markdown",
   "metadata": {
    "slideshow": {
     "slide_type": "subslide"
    }
   },
   "source": [
    "## Game of life V2\n",
    "**20 mins**\n",
    "<img src=\"http://jscoderetreat.com/img/downloads/gameoflife.jpg\" alt=\"Game of Life\" style=\"height: 40vh;\"/>\n",
    "* Silent TDD"
   ]
  },
  {
   "cell_type": "markdown",
   "metadata": {
    "slideshow": {
     "slide_type": "subslide"
    }
   },
   "source": [
    "## Wrap up\n",
    "** 15mins **\n",
    "\n",
    "What did you\n",
    "* learn\n",
    "* like\n",
    "* long for\n",
    "\n",
    "?"
   ]
  },
  {
   "cell_type": "markdown",
   "metadata": {
    "slideshow": {
     "slide_type": "slide"
    }
   },
   "source": [
    "# Open discussion and question round\n",
    "** 15mins**"
   ]
  },
  {
   "cell_type": "markdown",
   "metadata": {
    "slideshow": {
     "slide_type": "slide"
    }
   },
   "source": [
    "# Appendix"
   ]
  },
  {
   "cell_type": "markdown",
   "metadata": {},
   "source": [
    "## Simp"
   ]
  },
  {
   "cell_type": "markdown",
   "metadata": {
    "slideshow": {
     "slide_type": "subslide"
    }
   },
   "source": [
    "## Programming katas\n",
    "* [Bowling kata](http://butunclebob.com/ArticleS.UncleBob.TheBowlingGameKata)\n",
    "* [Prime factor kata](http://butunclebob.com/ArticleS.UncleBob.ThePrimeFactorsKata)\n"
   ]
  },
  {
   "cell_type": "markdown",
   "metadata": {
    "slideshow": {
     "slide_type": "subslide"
    }
   },
   "source": [
    "## Testing in scientfic computing\n",
    "* [Book on testing in scientfic computing](http://www.cambridge.org/de/academic/subjects/computer-science/scientific-computing-scientific-software/verification-and-validation-scientific-computing?format=HB&isbn=9780521113601#TsSTEkVSPxhRqLG3.97)"
   ]
  }
 ],
 "metadata": {
  "celltoolbar": "Slideshow",
  "kernelspec": {
   "display_name": "Python 2",
   "language": "python",
   "name": "python2"
  },
  "language_info": {
   "codemirror_mode": {
    "name": "ipython",
    "version": 2
   },
   "file_extension": ".py",
   "mimetype": "text/x-python",
   "name": "python",
   "nbconvert_exporter": "python",
   "pygments_lexer": "ipython2",
   "version": "2.7.12"
  }
 },
 "nbformat": 4,
 "nbformat_minor": 2
}
